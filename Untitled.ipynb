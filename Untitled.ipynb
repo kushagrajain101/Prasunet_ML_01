{
 "cells": [
  {
   "cell_type": "code",
   "execution_count": 2,
   "id": "83bb8d08",
   "metadata": {},
   "outputs": [
    {
     "name": "stdout",
     "output_type": "stream",
     "text": [
      "Model saved.\n"
     ]
    }
   ],
   "source": [
    "import pandas as pd\n",
    "from sklearn.linear_model import LinearRegression\n",
    "from sklearn.preprocessing import OneHotEncoder\n",
    "from joblib import dump\n",
    "import numpy as np\n",
    "from sklearn.impute import SimpleImputer\n",
    "\n",
    "# Load the datasets\n",
    "train_data = pd.read_csv('train.csv')\n",
    "test_data = pd.read_csv('test.csv')\n",
    "\n",
    "# Create new feature for total bathrooms\n",
    "train_data['TotalBath'] = train_data['FullBath'] + 0.5 * train_data['HalfBath']\n",
    "test_data['TotalBath'] = test_data['FullBath'] + 0.5 * test_data['HalfBath']\n",
    "\n",
    "# Include only the relevant features for prediction\n",
    "features = ['GrLivArea', 'BedroomAbvGr', 'TotalBath']\n",
    "\n",
    "# Drop rows with missing values in train data\n",
    "train_data = train_data.dropna(subset=features)\n",
    "\n",
    "# Separate features and target after handling missing values\n",
    "train_features = train_data[features]\n",
    "target = train_data['SalePrice']\n",
    "\n",
    "# Train the linear regression model\n",
    "model = LinearRegression()\n",
    "model.fit(train_features, target)\n",
    "\n",
    "# Save the trained linear regression model to a file\n",
    "dump(model, 'house_price_model_simple.joblib')\n",
    "\n",
    "print(\"Model saved.\")\n"
   ]
  },
  {
   "cell_type": "code",
   "execution_count": null,
   "id": "c79768f7",
   "metadata": {},
   "outputs": [],
   "source": []
  }
 ],
 "metadata": {
  "kernelspec": {
   "display_name": "Python 3 (ipykernel)",
   "language": "python",
   "name": "python3"
  },
  "language_info": {
   "codemirror_mode": {
    "name": "ipython",
    "version": 3
   },
   "file_extension": ".py",
   "mimetype": "text/x-python",
   "name": "python",
   "nbconvert_exporter": "python",
   "pygments_lexer": "ipython3",
   "version": "3.11.4"
  }
 },
 "nbformat": 4,
 "nbformat_minor": 5
}
